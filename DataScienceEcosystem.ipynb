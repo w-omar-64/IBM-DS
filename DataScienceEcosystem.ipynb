{
 "cells": [
  {
   "cell_type": "markdown",
   "id": "fff82c64-2efc-4c80-86b8-337ad880be1d",
   "metadata": {},
   "source": [
    "# Data Science Tools and Ecosystem"
   ]
  },
  {
   "cell_type": "markdown",
   "id": "0050b187-2942-43cc-bf6e-09ae0c5f7c8b",
   "metadata": {},
   "source": [
    "## Author\n",
    "W.O. Mohamud"
   ]
  },
  {
   "cell_type": "markdown",
   "id": "d2afd9f1-22ae-4a27-a3a0-c5abb3d96fab",
   "metadata": {},
   "source": [
    "In this notebook, Data Science Tools and Ecosystem are summarized."
   ]
  },
  {
   "cell_type": "markdown",
   "id": "45954a44-3296-4811-b5a3-454b0133151d",
   "metadata": {},
   "source": [
    "**Objectives:**\n",
    "\n",
    "- List popular languages for Data Science.\n",
    "- List some commonly used libraries in Data Science.\n",
    "- Learn about tools and environments used by Data Scientists.\n",
    "- Create tables and lists in Jupyter Notebook Markdown cells."
   ]
  },
  {
   "cell_type": "markdown",
   "id": "bbd561c5-aed7-4ea5-895b-6c0084441463",
   "metadata": {},
   "source": [
    "Some of the popular languages that Data Scientists use are:\n",
    "\n",
    "1. Python\n",
    "2. R\n",
    "3. SAS"
   ]
  },
  {
   "cell_type": "markdown",
   "id": "41ee54bb-829d-416a-a2a5-49eb6b4d023c",
   "metadata": {},
   "source": [
    "Some of the commonly used libraries used by Data Scientists include:\n",
    "\n",
    "1. NumPy\n",
    "2. Pandas\n",
    "3. Matplotlib"
   ]
  },
  {
   "cell_type": "markdown",
   "id": "e4a1de68-6719-4bc0-bb46-da9a05078ab2",
   "metadata": {},
   "source": [
    "|Data Science Tools|\n",
    "|----------|\n",
    "|PyCharm|\n",
    "|JupyterLab|\n",
    "|R Studio|"
   ]
  },
  {
   "cell_type": "markdown",
   "id": "c9a93e75-cb73-462a-b36f-d3c5ca0e842a",
   "metadata": {},
   "source": [
    "### Below are a few examples of evaluating arithmetic expressions in Python"
   ]
  },
  {
   "cell_type": "code",
   "execution_count": 19,
   "id": "169723a4-e3b5-40de-9010-2e63422eb6f3",
   "metadata": {},
   "outputs": [
    {
     "data": {
      "text/plain": [
       "17"
      ]
     },
     "execution_count": 19,
     "metadata": {},
     "output_type": "execute_result"
    }
   ],
   "source": [
    "#This a simple arithmetic expression to mutiply then add integers\n",
    "(3*4)+5"
   ]
  },
  {
   "cell_type": "code",
   "execution_count": 25,
   "id": "8f09a9c5-3c10-4875-b514-08cf6a6da6fd",
   "metadata": {},
   "outputs": [
    {
     "data": {
      "text/plain": [
       "3.3333333333333335"
      ]
     },
     "execution_count": 25,
     "metadata": {},
     "output_type": "execute_result"
    }
   ],
   "source": [
    "# This will convert 200 minutes to hours by diving by 60\n",
    "minutes=200\n",
    "hours= minutes/60\n",
    "hours"
   ]
  },
  {
   "cell_type": "code",
   "execution_count": null,
   "id": "5547a825-cc77-4ad6-bfb0-b5a64e5fedbf",
   "metadata": {},
   "outputs": [],
   "source": []
  }
 ],
 "metadata": {
  "kernelspec": {
   "display_name": "Python 3 (ipykernel)",
   "language": "python",
   "name": "python3"
  },
  "language_info": {
   "codemirror_mode": {
    "name": "ipython",
    "version": 3
   },
   "file_extension": ".py",
   "mimetype": "text/x-python",
   "name": "python",
   "nbconvert_exporter": "python",
   "pygments_lexer": "ipython3",
   "version": "3.12.7"
  }
 },
 "nbformat": 4,
 "nbformat_minor": 5
}
